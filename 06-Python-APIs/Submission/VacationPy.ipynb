{
 "cells": [
  {
   "cell_type": "markdown",
   "metadata": {},
   "source": [
    "# VacationPy\n",
    "----\n",
    "\n",
    "#### Note\n",
    "* Keep an eye on your API usage. Use https://developers.google.com/maps/reporting/gmp-reporting as reference for how to monitor your usage and billing.\n",
    "\n",
    "* Instructions have been included for each segment. You do not have to follow them exactly, but they are included to help you think through the steps."
   ]
  },
  {
   "cell_type": "code",
   "execution_count": 8,
   "metadata": {},
   "outputs": [],
   "source": [
    "# Dependencies and Setup\n",
    "import matplotlib.pyplot as plt\n",
    "import pandas as pd\n",
    "import numpy as np\n",
    "import requests\n",
    "import gmaps\n",
    "import os\n",
    "\n",
    "# Import API key\n",
    "from api_keys import g_key"
   ]
  },
  {
   "cell_type": "markdown",
   "metadata": {},
   "source": [
    "### Store Part I results into DataFrame\n",
    "* Load the csv exported in Part I to a DataFrame"
   ]
  },
  {
   "cell_type": "code",
   "execution_count": 9,
   "metadata": {},
   "outputs": [
    {
     "data": {
      "text/html": [
       "<div>\n",
       "<style scoped>\n",
       "    .dataframe tbody tr th:only-of-type {\n",
       "        vertical-align: middle;\n",
       "    }\n",
       "\n",
       "    .dataframe tbody tr th {\n",
       "        vertical-align: top;\n",
       "    }\n",
       "\n",
       "    .dataframe thead th {\n",
       "        text-align: right;\n",
       "    }\n",
       "</style>\n",
       "<table border=\"1\" class=\"dataframe\">\n",
       "  <thead>\n",
       "    <tr style=\"text-align: right;\">\n",
       "      <th></th>\n",
       "      <th>City</th>\n",
       "      <th>Country</th>\n",
       "      <th>Latitude</th>\n",
       "      <th>Longitude</th>\n",
       "      <th>Date</th>\n",
       "      <th>Wind_Speed</th>\n",
       "      <th>Humidity</th>\n",
       "      <th>Max_Temp</th>\n",
       "      <th>Cloudiness</th>\n",
       "    </tr>\n",
       "  </thead>\n",
       "  <tbody>\n",
       "    <tr>\n",
       "      <th>0</th>\n",
       "      <td>Arraial do Cabo</td>\n",
       "      <td>BR</td>\n",
       "      <td>-22.9661</td>\n",
       "      <td>-42.0278</td>\n",
       "      <td>1.646991e+09</td>\n",
       "      <td>19.57</td>\n",
       "      <td>88.0</td>\n",
       "      <td>75.06</td>\n",
       "      <td>0.0</td>\n",
       "    </tr>\n",
       "    <tr>\n",
       "      <th>1</th>\n",
       "      <td>Boa Vista</td>\n",
       "      <td>BR</td>\n",
       "      <td>2.8197</td>\n",
       "      <td>-60.6733</td>\n",
       "      <td>1.646990e+09</td>\n",
       "      <td>4.61</td>\n",
       "      <td>78.0</td>\n",
       "      <td>76.98</td>\n",
       "      <td>40.0</td>\n",
       "    </tr>\n",
       "    <tr>\n",
       "      <th>2</th>\n",
       "      <td>Torbay</td>\n",
       "      <td>CA</td>\n",
       "      <td>47.6666</td>\n",
       "      <td>-52.7314</td>\n",
       "      <td>1.646991e+09</td>\n",
       "      <td>20.71</td>\n",
       "      <td>89.0</td>\n",
       "      <td>29.75</td>\n",
       "      <td>40.0</td>\n",
       "    </tr>\n",
       "    <tr>\n",
       "      <th>3</th>\n",
       "      <td>Gornyy</td>\n",
       "      <td>RU</td>\n",
       "      <td>55.1153</td>\n",
       "      <td>83.9059</td>\n",
       "      <td>1.646991e+09</td>\n",
       "      <td>9.13</td>\n",
       "      <td>80.0</td>\n",
       "      <td>4.17</td>\n",
       "      <td>57.0</td>\n",
       "    </tr>\n",
       "    <tr>\n",
       "      <th>4</th>\n",
       "      <td>Chui</td>\n",
       "      <td>UY</td>\n",
       "      <td>-33.6971</td>\n",
       "      <td>-53.4616</td>\n",
       "      <td>1.646991e+09</td>\n",
       "      <td>7.34</td>\n",
       "      <td>73.0</td>\n",
       "      <td>58.10</td>\n",
       "      <td>69.0</td>\n",
       "    </tr>\n",
       "  </tbody>\n",
       "</table>\n",
       "</div>"
      ],
      "text/plain": [
       "              City Country  Latitude  Longitude          Date  Wind_Speed  \\\n",
       "0  Arraial do Cabo      BR  -22.9661   -42.0278  1.646991e+09       19.57   \n",
       "1        Boa Vista      BR    2.8197   -60.6733  1.646990e+09        4.61   \n",
       "2           Torbay      CA   47.6666   -52.7314  1.646991e+09       20.71   \n",
       "3           Gornyy      RU   55.1153    83.9059  1.646991e+09        9.13   \n",
       "4             Chui      UY  -33.6971   -53.4616  1.646991e+09        7.34   \n",
       "\n",
       "   Humidity  Max_Temp  Cloudiness  \n",
       "0      88.0     75.06         0.0  \n",
       "1      78.0     76.98        40.0  \n",
       "2      89.0     29.75        40.0  \n",
       "3      80.0      4.17        57.0  \n",
       "4      73.0     58.10        69.0  "
      ]
     },
     "execution_count": 9,
     "metadata": {},
     "output_type": "execute_result"
    }
   ],
   "source": [
    "\n",
    "#read in files\n",
    "file_path = \"Output\\CityWeatherData.csv\"\n",
    "\n",
    "# Read the census data \n",
    "df = pd.read_csv(file_path)\n",
    "\n",
    "df.head()\n"
   ]
  },
  {
   "cell_type": "code",
   "execution_count": 19,
   "metadata": {},
   "outputs": [
    {
     "name": "stdout",
     "output_type": "stream",
     "text": [
      "<class 'pandas.core.frame.DataFrame'>\n",
      "RangeIndex: 562 entries, 0 to 561\n",
      "Data columns (total 9 columns):\n",
      " #   Column      Non-Null Count  Dtype  \n",
      "---  ------      --------------  -----  \n",
      " 0   City        562 non-null    object \n",
      " 1   Country     559 non-null    object \n",
      " 2   Latitude    562 non-null    float64\n",
      " 3   Longitude   562 non-null    float64\n",
      " 4   Date        562 non-null    float64\n",
      " 5   Wind_Speed  562 non-null    float64\n",
      " 6   Humidity    562 non-null    float64\n",
      " 7   Max_Temp    562 non-null    float64\n",
      " 8   Cloudiness  562 non-null    float64\n",
      "dtypes: float64(7), object(2)\n",
      "memory usage: 39.6+ KB\n"
     ]
    }
   ],
   "source": [
    "df.info()"
   ]
  },
  {
   "cell_type": "code",
   "execution_count": 22,
   "metadata": {},
   "outputs": [
    {
     "name": "stdout",
     "output_type": "stream",
     "text": [
      "<class 'pandas.core.frame.DataFrame'>\n",
      "Int64Index: 559 entries, 0 to 561\n",
      "Data columns (total 9 columns):\n",
      " #   Column      Non-Null Count  Dtype  \n",
      "---  ------      --------------  -----  \n",
      " 0   City        559 non-null    object \n",
      " 1   Country     559 non-null    object \n",
      " 2   Latitude    559 non-null    float64\n",
      " 3   Longitude   559 non-null    float64\n",
      " 4   Date        559 non-null    float64\n",
      " 5   Wind_Speed  559 non-null    float64\n",
      " 6   Humidity    559 non-null    float64\n",
      " 7   Max_Temp    559 non-null    float64\n",
      " 8   Cloudiness  559 non-null    float64\n",
      "dtypes: float64(7), object(2)\n",
      "memory usage: 43.7+ KB\n"
     ]
    }
   ],
   "source": [
    "dropna_weather_data = df.dropna()\n",
    "dropna_weather_data.info()"
   ]
  },
  {
   "cell_type": "code",
   "execution_count": 101,
   "metadata": {},
   "outputs": [
    {
     "data": {
      "text/plain": [
       "100.0"
      ]
     },
     "execution_count": 101,
     "metadata": {},
     "output_type": "execute_result"
    }
   ],
   "source": [
    "dropna_weather_data.Humidity.max()"
   ]
  },
  {
   "cell_type": "markdown",
   "metadata": {},
   "source": [
    "### Humidity Heatmap\n",
    "* Configure gmaps.\n",
    "* Use the Lat and Lng as locations and Humidity as the weight.\n",
    "* Add Heatmap layer to map."
   ]
  },
  {
   "cell_type": "code",
   "execution_count": 92,
   "metadata": {},
   "outputs": [],
   "source": [
    "# Configure gmaps\n",
    "gmaps.configure(api_key=g_key)\n",
    "\n",
    "# Locations\n",
    "locations = dropna_weather_data[[\"Latitude\", \"Longitude\"]]\n",
    "\n",
    "humidity = dropna_weather_data[\"Humidity\"]"
   ]
  },
  {
   "cell_type": "code",
   "execution_count": 106,
   "metadata": {},
   "outputs": [
    {
     "data": {
      "application/vnd.jupyter.widget-view+json": {
       "model_id": "e42d5df253ce4484969c3285b8a0bdbe",
       "version_major": 2,
       "version_minor": 0
      },
      "text/plain": [
       "Figure(layout=FigureLayout(height='420px'))"
      ]
     },
     "metadata": {},
     "output_type": "display_data"
    }
   ],
   "source": [
    "# BONUS\n",
    "# Plot as a Terrain map\n",
    "fig = gmaps.figure(map_type=\"TERRAIN\")\n",
    "\n",
    "# Create heat layer\n",
    "heat_layer = gmaps.heatmap_layer(locations, weights=humidity, \n",
    "                                 max_intensity=100, point_radius=2)\n",
    "\n",
    "fig.add_layer(heat_layer)\n",
    "fig"
   ]
  },
  {
   "cell_type": "markdown",
   "metadata": {},
   "source": [
    "### Create new DataFrame fitting weather criteria\n",
    "* Narrow down the cities to fit weather conditions.\n",
    "* Drop any rows will null values."
   ]
  },
  {
   "cell_type": "code",
   "execution_count": 78,
   "metadata": {},
   "outputs": [
    {
     "data": {
      "text/html": [
       "<div>\n",
       "<style scoped>\n",
       "    .dataframe tbody tr th:only-of-type {\n",
       "        vertical-align: middle;\n",
       "    }\n",
       "\n",
       "    .dataframe tbody tr th {\n",
       "        vertical-align: top;\n",
       "    }\n",
       "\n",
       "    .dataframe thead th {\n",
       "        text-align: right;\n",
       "    }\n",
       "</style>\n",
       "<table border=\"1\" class=\"dataframe\">\n",
       "  <thead>\n",
       "    <tr style=\"text-align: right;\">\n",
       "      <th></th>\n",
       "      <th>City</th>\n",
       "      <th>Country</th>\n",
       "      <th>Latitude</th>\n",
       "      <th>Longitude</th>\n",
       "      <th>Date</th>\n",
       "      <th>Wind_Speed</th>\n",
       "      <th>Humidity</th>\n",
       "      <th>Max_Temp</th>\n",
       "      <th>Cloudiness</th>\n",
       "    </tr>\n",
       "  </thead>\n",
       "  <tbody>\n",
       "    <tr>\n",
       "      <th>126</th>\n",
       "      <td>Pedernales</td>\n",
       "      <td>DO</td>\n",
       "      <td>18.0384</td>\n",
       "      <td>-71.7440</td>\n",
       "      <td>1.646991e+09</td>\n",
       "      <td>2.68</td>\n",
       "      <td>67.0</td>\n",
       "      <td>76.53</td>\n",
       "      <td>0.0</td>\n",
       "    </tr>\n",
       "    <tr>\n",
       "      <th>224</th>\n",
       "      <td>Mengcheng</td>\n",
       "      <td>CN</td>\n",
       "      <td>33.2579</td>\n",
       "      <td>116.5655</td>\n",
       "      <td>1.646991e+09</td>\n",
       "      <td>9.78</td>\n",
       "      <td>42.0</td>\n",
       "      <td>76.60</td>\n",
       "      <td>0.0</td>\n",
       "    </tr>\n",
       "    <tr>\n",
       "      <th>354</th>\n",
       "      <td>Kahului</td>\n",
       "      <td>US</td>\n",
       "      <td>20.8947</td>\n",
       "      <td>-156.4700</td>\n",
       "      <td>1.646991e+09</td>\n",
       "      <td>5.01</td>\n",
       "      <td>68.0</td>\n",
       "      <td>75.85</td>\n",
       "      <td>0.0</td>\n",
       "    </tr>\n",
       "    <tr>\n",
       "      <th>396</th>\n",
       "      <td>Nānākuli</td>\n",
       "      <td>US</td>\n",
       "      <td>21.3906</td>\n",
       "      <td>-158.1547</td>\n",
       "      <td>1.646991e+09</td>\n",
       "      <td>4.61</td>\n",
       "      <td>73.0</td>\n",
       "      <td>75.70</td>\n",
       "      <td>0.0</td>\n",
       "    </tr>\n",
       "  </tbody>\n",
       "</table>\n",
       "</div>"
      ],
      "text/plain": [
       "           City Country  Latitude  Longitude          Date  Wind_Speed  \\\n",
       "126  Pedernales      DO   18.0384   -71.7440  1.646991e+09        2.68   \n",
       "224   Mengcheng      CN   33.2579   116.5655  1.646991e+09        9.78   \n",
       "354     Kahului      US   20.8947  -156.4700  1.646991e+09        5.01   \n",
       "396    Nānākuli      US   21.3906  -158.1547  1.646991e+09        4.61   \n",
       "\n",
       "     Humidity  Max_Temp  Cloudiness  \n",
       "126      67.0     76.53         0.0  \n",
       "224      42.0     76.60         0.0  \n",
       "354      68.0     75.85         0.0  \n",
       "396      73.0     75.70         0.0  "
      ]
     },
     "execution_count": 78,
     "metadata": {},
     "output_type": "execute_result"
    }
   ],
   "source": [
    "mask = (dropna_weather_data.Max_Temp < 80) & (dropna_weather_data.Max_Temp > 70) & (dropna_weather_data.Wind_Speed < 10) & (dropna_weather_data.Cloudiness == 0)\n",
    "\n",
    "perfect_vacation = dropna_weather_data.loc[mask]\n",
    "perfect_vacation"
   ]
  },
  {
   "cell_type": "markdown",
   "metadata": {},
   "source": [
    "### Hotel Map\n",
    "* Store into variable named `hotel_df`.\n",
    "* Add a \"Hotel Name\" column to the DataFrame.\n",
    "* Set parameters to search for hotels with 5000 meters.\n",
    "* Hit the Google Places API for each city's coordinates.\n",
    "* Store the first Hotel result into the DataFrame.\n",
    "* Plot markers on top of the heatmap."
   ]
  },
  {
   "cell_type": "code",
   "execution_count": 86,
   "metadata": {},
   "outputs": [
    {
     "name": "stdout",
     "output_type": "stream",
     "text": [
      "Pedernales\n",
      "Vista de Águilas Ecolodge\n",
      "Calle 16 de Agosto No. 27, Pedernales\n",
      "Mengcheng\n",
      "Jinjiang Star pinshang Hotel\n",
      "Building 19, Zone C, Zhuangzhou, 139 Liuhai Rd, Mengcheng County, Zhuangzhou\n",
      "Kahului\n",
      "Maui Seaside Hotel\n",
      "100 W Kaahumanu Ave, Kahului\n",
      "Nānākuli\n"
     ]
    },
    {
     "ename": "IndexError",
     "evalue": "list index out of range",
     "output_type": "error",
     "traceback": [
      "\u001b[1;31m---------------------------------------------------------------------------\u001b[0m",
      "\u001b[1;31mIndexError\u001b[0m                                Traceback (most recent call last)",
      "\u001b[1;32m~\\AppData\\Local\\Temp/ipykernel_14320/2900750880.py\u001b[0m in \u001b[0;36m<module>\u001b[1;34m\u001b[0m\n\u001b[0;32m     34\u001b[0m     \u001b[0mplaces_data\u001b[0m \u001b[1;33m=\u001b[0m \u001b[0mresponse\u001b[0m\u001b[1;33m.\u001b[0m\u001b[0mjson\u001b[0m\u001b[1;33m(\u001b[0m\u001b[1;33m)\u001b[0m\u001b[1;33m\u001b[0m\u001b[1;33m\u001b[0m\u001b[0m\n\u001b[0;32m     35\u001b[0m \u001b[1;33m\u001b[0m\u001b[0m\n\u001b[1;32m---> 36\u001b[1;33m     \u001b[0mhotel\u001b[0m \u001b[1;33m=\u001b[0m \u001b[0mplaces_data\u001b[0m\u001b[1;33m[\u001b[0m\u001b[1;34m\"results\"\u001b[0m\u001b[1;33m]\u001b[0m\u001b[1;33m[\u001b[0m\u001b[1;36m0\u001b[0m\u001b[1;33m]\u001b[0m\u001b[1;33m[\u001b[0m\u001b[1;34m\"name\"\u001b[0m\u001b[1;33m]\u001b[0m\u001b[1;33m\u001b[0m\u001b[1;33m\u001b[0m\u001b[0m\n\u001b[0m\u001b[0;32m     37\u001b[0m     \u001b[0maddress\u001b[0m \u001b[1;33m=\u001b[0m \u001b[0mplaces_data\u001b[0m\u001b[1;33m[\u001b[0m\u001b[1;34m\"results\"\u001b[0m\u001b[1;33m]\u001b[0m\u001b[1;33m[\u001b[0m\u001b[1;36m0\u001b[0m\u001b[1;33m]\u001b[0m\u001b[1;33m[\u001b[0m\u001b[1;34m\"vicinity\"\u001b[0m\u001b[1;33m]\u001b[0m\u001b[1;33m\u001b[0m\u001b[1;33m\u001b[0m\u001b[0m\n\u001b[0;32m     38\u001b[0m     \u001b[0mprint\u001b[0m\u001b[1;33m(\u001b[0m\u001b[0mplaces_data\u001b[0m\u001b[1;33m[\u001b[0m\u001b[1;34m\"results\"\u001b[0m\u001b[1;33m]\u001b[0m\u001b[1;33m[\u001b[0m\u001b[1;36m0\u001b[0m\u001b[1;33m]\u001b[0m\u001b[1;33m[\u001b[0m\u001b[1;34m\"name\"\u001b[0m\u001b[1;33m]\u001b[0m\u001b[1;33m)\u001b[0m\u001b[1;33m\u001b[0m\u001b[1;33m\u001b[0m\u001b[0m\n",
      "\u001b[1;31mIndexError\u001b[0m: list index out of range"
     ]
    }
   ],
   "source": [
    "hotel_names = []\n",
    "ratings = []\n",
    "addresses = []\n",
    "cities = []\n",
    "countries = []\n",
    "lats = []\n",
    "longs = []\n",
    "\n",
    "for _, row in perfect_vacation.iterrows():\n",
    "    print(row.City)\n",
    "\n",
    "    # geocoordinates\n",
    "    target_coordinates = f\"{row.Latitude}, {row.Longitude}\"\n",
    "    target_search = \"hotel\"\n",
    "\n",
    "    target_radius = 5000\n",
    "    target_type = \"lodging\"\n",
    "\n",
    "    # set up a parameters dictionary\n",
    "    params = {\n",
    "        \"location\": target_coordinates,\n",
    "        \"keyword\": target_search,\n",
    "        \"radius\": target_radius,\n",
    "        \"type\": target_type,\n",
    "        \"key\": g_key\n",
    "    }\n",
    "\n",
    "    # base url\n",
    "    base_url = \"https://maps.googleapis.com/maps/api/place/nearbysearch/json\"\n",
    "\n",
    "    # run a request using our params dictionary\n",
    "    response = requests.get(base_url, params=params)\n",
    "\n",
    "    places_data = response.json()\n",
    "    \n",
    "    hotel = places_data[\"results\"][0][\"name\"]\n",
    "    address = places_data[\"results\"][0][\"vicinity\"]\n",
    "    print(places_data[\"results\"][0][\"name\"])\n",
    "    print(places_data[\"results\"][0][\"vicinity\"])\n",
    "    \n",
    "    # put it all in a list\n",
    "    hotel_names.append(hotel)\n",
    "    addresses.append(address)\n",
    "    cities.append(row.City)\n",
    "    countries.append(row.Country)\n",
    "    lats.append(row.Latitude)\n",
    "    longs.append(row.Longitude)"
   ]
  },
  {
   "cell_type": "code",
   "execution_count": 87,
   "metadata": {},
   "outputs": [
    {
     "data": {
      "text/plain": [
       "['Vista de Águilas Ecolodge',\n",
       " 'Jinjiang Star pinshang Hotel',\n",
       " 'Maui Seaside Hotel']"
      ]
     },
     "execution_count": 87,
     "metadata": {},
     "output_type": "execute_result"
    }
   ],
   "source": [
    "hotel_names"
   ]
  },
  {
   "cell_type": "code",
   "execution_count": 88,
   "metadata": {},
   "outputs": [
    {
     "data": {
      "text/html": [
       "<div>\n",
       "<style scoped>\n",
       "    .dataframe tbody tr th:only-of-type {\n",
       "        vertical-align: middle;\n",
       "    }\n",
       "\n",
       "    .dataframe tbody tr th {\n",
       "        vertical-align: top;\n",
       "    }\n",
       "\n",
       "    .dataframe thead th {\n",
       "        text-align: right;\n",
       "    }\n",
       "</style>\n",
       "<table border=\"1\" class=\"dataframe\">\n",
       "  <thead>\n",
       "    <tr style=\"text-align: right;\">\n",
       "      <th></th>\n",
       "      <th>City</th>\n",
       "      <th>Country</th>\n",
       "      <th>Latitude</th>\n",
       "      <th>Longitude</th>\n",
       "      <th>Hotel Name</th>\n",
       "      <th>Address</th>\n",
       "    </tr>\n",
       "  </thead>\n",
       "  <tbody>\n",
       "    <tr>\n",
       "      <th>0</th>\n",
       "      <td>Pedernales</td>\n",
       "      <td>DO</td>\n",
       "      <td>18.0384</td>\n",
       "      <td>-71.7440</td>\n",
       "      <td>Vista de Águilas Ecolodge</td>\n",
       "      <td>Calle 16 de Agosto No. 27, Pedernales</td>\n",
       "    </tr>\n",
       "    <tr>\n",
       "      <th>1</th>\n",
       "      <td>Mengcheng</td>\n",
       "      <td>CN</td>\n",
       "      <td>33.2579</td>\n",
       "      <td>116.5655</td>\n",
       "      <td>Jinjiang Star pinshang Hotel</td>\n",
       "      <td>Building 19, Zone C, Zhuangzhou, 139 Liuhai Rd...</td>\n",
       "    </tr>\n",
       "    <tr>\n",
       "      <th>2</th>\n",
       "      <td>Kahului</td>\n",
       "      <td>US</td>\n",
       "      <td>20.8947</td>\n",
       "      <td>-156.4700</td>\n",
       "      <td>Maui Seaside Hotel</td>\n",
       "      <td>100 W Kaahumanu Ave, Kahului</td>\n",
       "    </tr>\n",
       "  </tbody>\n",
       "</table>\n",
       "</div>"
      ],
      "text/plain": [
       "         City Country  Latitude  Longitude                    Hotel Name  \\\n",
       "0  Pedernales      DO   18.0384   -71.7440     Vista de Águilas Ecolodge   \n",
       "1   Mengcheng      CN   33.2579   116.5655  Jinjiang Star pinshang Hotel   \n",
       "2     Kahului      US   20.8947  -156.4700            Maui Seaside Hotel   \n",
       "\n",
       "                                             Address  \n",
       "0              Calle 16 de Agosto No. 27, Pedernales  \n",
       "1  Building 19, Zone C, Zhuangzhou, 139 Liuhai Rd...  \n",
       "2                       100 W Kaahumanu Ave, Kahului  "
      ]
     },
     "execution_count": 88,
     "metadata": {},
     "output_type": "execute_result"
    }
   ],
   "source": [
    "hotel_df = pd.DataFrame()\n",
    "hotel_df['City'] = cities\n",
    "hotel_df['Country'] = countries\n",
    "hotel_df['Latitude'] = lats\n",
    "hotel_df['Longitude'] = longs\n",
    "hotel_df['Hotel Name'] = hotel_names\n",
    "hotel_df['Address'] = addresses\n",
    "\n",
    "hotel_df"
   ]
  },
  {
   "cell_type": "code",
   "execution_count": 98,
   "metadata": {},
   "outputs": [],
   "source": [
    "# NOTE: Do not change any of the code in this cell\n",
    "\n",
    "# Using the template add the hotel marks to the heatmap\n",
    "info_box_template = \"\"\"\n",
    "<dl>\n",
    "<dt>Name</dt><dd>{Hotel Name}</dd>\n",
    "<dt>City</dt><dd>{Address}</dd>\n",
    "<dt>Country</dt><dd>{Country}</dd>\n",
    "</dl>\n",
    "\"\"\"\n",
    "# Store the DataFrame Row\n",
    "# NOTE: be sure to update with your DataFrame name\n",
    "hotel_info = [info_box_template.format(**row) for index, row in hotel_df.iterrows()]\n",
    "hotel_locations = hotel_df[[\"Latitude\", \"Longitude\"]]"
   ]
  },
  {
   "cell_type": "code",
   "execution_count": 107,
   "metadata": {},
   "outputs": [
    {
     "data": {
      "application/vnd.jupyter.widget-view+json": {
       "model_id": "be3aacd9d16443d8ba4734303c7745bb",
       "version_major": 2,
       "version_minor": 0
      },
      "text/plain": [
       "Figure(layout=FigureLayout(height='420px'))"
      ]
     },
     "metadata": {},
     "output_type": "display_data"
    }
   ],
   "source": [
    "# Add marker layer ontop of heat map\n",
    "# create layers\n",
    "marker_layer = gmaps.marker_layer(hotel_locations, info_box_content=hotel_info)\n",
    "\n",
    "# Create heat layer\n",
    "heat_layer = gmaps.heatmap_layer(locations, weights=humidity, \n",
    "                                 max_intensity=100, point_radius=2)\n",
    "\n",
    "\n",
    "fig = gmaps.figure()\n",
    "\n",
    "# add layers\n",
    "fig.add_layer(marker_layer)\n",
    "fig.add_layer(heatmap_layer)\n",
    "\n",
    "# Display figure\n",
    "fig\n",
    "\n",
    "\n"
   ]
  },
  {
   "cell_type": "code",
   "execution_count": null,
   "metadata": {},
   "outputs": [],
   "source": []
  },
  {
   "cell_type": "code",
   "execution_count": null,
   "metadata": {},
   "outputs": [],
   "source": []
  }
 ],
 "metadata": {
  "kernelspec": {
   "display_name": "Python 3 (ipykernel)",
   "language": "python",
   "name": "python3"
  },
  "language_info": {
   "codemirror_mode": {
    "name": "ipython",
    "version": 3
   },
   "file_extension": ".py",
   "mimetype": "text/x-python",
   "name": "python",
   "nbconvert_exporter": "python",
   "pygments_lexer": "ipython3",
   "version": "3.9.7"
  },
  "latex_envs": {
   "LaTeX_envs_menu_present": true,
   "autoclose": false,
   "autocomplete": true,
   "bibliofile": "biblio.bib",
   "cite_by": "apalike",
   "current_citInitial": 1,
   "eqLabelWithNumbers": true,
   "eqNumInitial": 1,
   "hotkeys": {
    "equation": "Ctrl-E",
    "itemize": "Ctrl-I"
   },
   "labels_anchors": false,
   "latex_user_defs": false,
   "report_style_numbering": false,
   "user_envs_cfg": false
  }
 },
 "nbformat": 4,
 "nbformat_minor": 4
}
